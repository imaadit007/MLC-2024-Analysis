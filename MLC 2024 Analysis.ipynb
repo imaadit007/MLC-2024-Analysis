{
 "cells": [
  {
   "cell_type": "code",
   "execution_count": 71,
   "id": "c6a76d3e",
   "metadata": {},
   "outputs": [],
   "source": [
    "import pandas as pd\n",
    "import numpy as np\n",
    "import matplotlib.pyplot as plt\n",
    "import seaborn as sns\n",
    "#Loading the dataset\n",
    "df = pd.read_csv('mlc.csv')"
   ]
  },
  {
   "cell_type": "code",
   "execution_count": 51,
   "id": "eed61e3b",
   "metadata": {},
   "outputs": [
    {
     "name": "stdout",
     "output_type": "stream",
     "text": [
      "Top 5 batsmen by total runs:\n",
      "striker\n",
      "F du Plessis    420\n",
      "SPD Smith       336\n",
      "TM Head         336\n",
      "FH Allen        306\n",
      "DP Conway       293\n",
      "Name: runs_off_bat, dtype: int64\n",
      "\n",
      "\n"
     ]
    }
   ],
   "source": [
    "print(\"Top 5 batsmen by total runs:\")\n",
    "batsmen_runs = df.groupby('striker')['runs_off_bat'].sum().sort_values(ascending=False).head(5)\n",
    "print(batsmen_runs)\n",
    "print(\"\\n\")"
   ]
  },
  {
   "cell_type": "code",
   "execution_count": 53,
   "id": "1327b0e0",
   "metadata": {},
   "outputs": [
    {
     "name": "stdout",
     "output_type": "stream",
     "text": [
      "Batsmen with most centuries:\n",
      "striker\n",
      "F du Plessis    1\n",
      "FH Allen        1\n",
      "RD Rickelton    1\n",
      "dtype: int64\n",
      "\n",
      "\n"
     ]
    }
   ],
   "source": [
    "print(\"Batsmen with most centuries:\")\n",
    "\n",
    "# Group by match_id and striker, sum the runs scored by each batsman in each match\n",
    "batsman_match_runs = df.groupby(['match_id', 'striker'])['runs_off_bat'].sum()\n",
    "\n",
    "# Count matches where a batsman scored 100 or more runs\n",
    "centuries = batsman_match_runs[batsman_match_runs >= 100].reset_index()\n",
    "centuries_count = centuries.groupby('striker').size().sort_values(ascending=False)\n",
    "\n",
    "# Batsmen with most centuries\n",
    "print(centuries_count.head(3))\n",
    "print(\"\\n\")"
   ]
  },
  {
   "cell_type": "code",
   "execution_count": 54,
   "id": "03372c7c",
   "metadata": {},
   "outputs": [
    {
     "name": "stdout",
     "output_type": "stream",
     "text": [
      "Batsmen with most ducks:\n",
      "striker\n",
      "RD Rickelton       2\n",
      "Aaron Jones        1\n",
      "C le Roux          1\n",
      "TM Head            1\n",
      "Shakib Al Hasan    1\n",
      "dtype: int64\n",
      "\n",
      "\n"
     ]
    }
   ],
   "source": [
    "# Find batsmen with most ducks (scoring zero in an innings)\n",
    "print(\"Batsmen with most ducks:\")\n",
    "\n",
    "# Group by match_id and striker to get runs per innings\n",
    "batsman_match_runs = df.groupby(['match_id', 'striker'])['runs_off_bat'].sum().reset_index()\n",
    "\n",
    "# Filter for innings where batsman scored zero runs\n",
    "ducks = batsman_match_runs[batsman_match_runs['runs_off_bat'] == 0]\n",
    "\n",
    "# Count ducks for each batsman\n",
    "duck_counts = ducks.groupby('striker').size().sort_values(ascending=False)\n",
    "\n",
    "# Display batsmen with most ducks\n",
    "print(duck_counts.head(5))\n",
    "print(\"\\n\")"
   ]
  },
  {
   "cell_type": "code",
   "execution_count": 55,
   "id": "9213926b",
   "metadata": {},
   "outputs": [
    {
     "name": "stdout",
     "output_type": "stream",
     "text": [
      "Number of wickets taken by each bowler:\n",
      "bowler\n",
      "SN Netravalkar    15\n",
      "R Ravindra        12\n",
      "M Jansen          11\n",
      "CJ Gannon         11\n",
      "GJ Maxwell        10\n",
      "LH Ferguson       10\n",
      "Hassan Khan       10\n",
      "Rashid Khan       10\n",
      "SH Johnson         9\n",
      "Noor Ahmad         9\n",
      "dtype: int64\n",
      "\n",
      "\n"
     ]
    }
   ],
   "source": [
    "print(\"Number of wickets taken by each bowler:\")\n",
    "# Excluding Run Outs\n",
    "bowler_wicket_types = ['bowled', 'caught', 'lbw', 'stumped', 'caught and bowled', 'hit wicket']\n",
    "bowler_credited_wickets = df[\n",
    "    (df['wicket_type'].notna()) & \n",
    "    (~df['wicket_type'].isin(['run out']))\n",
    "]\n",
    "# Counting wickets by bowler\n",
    "bowler_wickets = bowler_credited_wickets.groupby('bowler').size().sort_values(ascending=False)\n",
    "print(bowler_wickets.head(10))\n",
    "print(\"\\n\")"
   ]
  },
  {
   "cell_type": "code",
   "execution_count": 56,
   "id": "c0f42672",
   "metadata": {},
   "outputs": [
    {
     "name": "stdout",
     "output_type": "stream",
     "text": [
      "Count of different types of dismissals:\n",
      "caught               179\n",
      "bowled                53\n",
      "lbw                   24\n",
      "run out               10\n",
      "caught and bowled      9\n",
      "stumped                4\n",
      "hit wicket             1\n",
      "retired hurt           1\n",
      "Name: wicket_type, dtype: int64\n",
      "\n",
      "\n"
     ]
    }
   ],
   "source": [
    "print(\"Count of different types of dismissals:\")\n",
    "dismissal_counts = df['wicket_type'].value_counts()\n",
    "print(dismissal_counts)\n",
    "print(\"\\n\")"
   ]
  },
  {
   "cell_type": "code",
   "execution_count": 57,
   "id": "a08ecd4a",
   "metadata": {},
   "outputs": [
    {
     "name": "stdout",
     "output_type": "stream",
     "text": [
      "Average runs scored in each innings:\n",
      "innings\n",
      "1    161.173913\n",
      "2    137.608696\n",
      "Name: total_runs, dtype: float64\n",
      "\n",
      "\n"
     ]
    }
   ],
   "source": [
    "#Average runs scored in each innings\n",
    "print(\"Average runs scored in each innings:\")\n",
    "innings_runs = df.groupby(['match_id', 'innings'])[['runs_off_bat', 'extras']].sum()\n",
    "innings_runs['total_runs'] = innings_runs['runs_off_bat'] + innings_runs['extras']\n",
    "average_by_innings = innings_runs.groupby('innings')['total_runs'].mean()\n",
    "print(average_by_innings)\n",
    "print(\"\\n\")"
   ]
  },
  {
   "cell_type": "code",
   "execution_count": 58,
   "id": "4cfe5f7f",
   "metadata": {},
   "outputs": [
    {
     "name": "stdout",
     "output_type": "stream",
     "text": [
      "Number of dot balls by each bowler:\n",
      "bowler\n",
      "M Jansen          91\n",
      "LH Ferguson       79\n",
      "SN Netravalkar    78\n",
      "Rashid Khan       70\n",
      "GJ Maxwell        65\n",
      "TA Boult          65\n",
      "SP Narine         61\n",
      "SH Johnson        58\n",
      "Zia-ul-Haq        57\n",
      "Haris Rauf        55\n",
      "dtype: int64\n",
      "\n",
      "\n"
     ]
    }
   ],
   "source": [
    "print(\"Number of dot balls by each bowler:\")\n",
    "dot_balls = df[(df['runs_off_bat'] == 0) & (df['extras'] == 0)].groupby('bowler').size().sort_values(ascending=False)\n",
    "print(dot_balls.head(10))\n",
    "print(\"\\n\")"
   ]
  },
  {
   "cell_type": "code",
   "execution_count": 59,
   "id": "c82bb535",
   "metadata": {},
   "outputs": [
    {
     "name": "stdout",
     "output_type": "stream",
     "text": [
      "Count of boundaries by each batsman:\n",
      "              Fours  Sixes  Total_Boundaries\n",
      "striker                                     \n",
      "F du Plessis     43     23                66\n",
      "TM Head          40     18                58\n",
      "FH Allen         27     20                47\n",
      "SPD Smith        23     21                44\n",
      "DP Conway        25      7                32\n",
      "RD Rickelton     19     12                31\n",
      "Hassan Khan      13     13                26\n",
      "Rashid Khan      12     13                25\n",
      "MW Short          9     14                23\n",
      "N Pooran         18      5                23\n",
      "\n",
      "\n"
     ]
    }
   ],
   "source": [
    "print(\"Count of boundaries by each batsman:\")\n",
    "fours = df[df['runs_off_bat'] == 4].groupby('striker').size()\n",
    "sixes = df[df['runs_off_bat'] == 6].groupby('striker').size()\n",
    "boundaries = pd.DataFrame({'Fours': fours, 'Sixes': sixes}).fillna(0).astype(int)\n",
    "boundaries['Total_Boundaries'] = boundaries['Fours'] + boundaries['Sixes']\n",
    "print(boundaries.sort_values('Total_Boundaries', ascending=False).head(10))\n",
    "print(\"\\n\")"
   ]
  },
  {
   "cell_type": "code",
   "execution_count": 60,
   "id": "bf06c48a",
   "metadata": {},
   "outputs": [
    {
     "name": "stdout",
     "output_type": "stream",
     "text": [
      "Total runs scored in each over:\n",
      "      total_runs\n",
      "over            \n",
      "1            289\n",
      "2            282\n",
      "3            425\n",
      "4            444\n",
      "5            414\n",
      "6            457\n",
      "7            327\n",
      "8            314\n",
      "9            335\n",
      "10           314\n",
      "11           403\n",
      "12           324\n",
      "13           373\n",
      "14           327\n",
      "15           371\n",
      "16           342\n",
      "17           280\n",
      "18           321\n",
      "19           283\n",
      "20           247\n",
      "\n",
      "\n"
     ]
    }
   ],
   "source": [
    "print(\"Total runs scored in each over:\")\n",
    "# Creating Over Column\n",
    "df['over'] = np.ceil(df['ball']).astype(int)\n",
    "over_runs = df.groupby('over')[['runs_off_bat', 'extras']].sum()\n",
    "over_runs['total_runs'] = over_runs['runs_off_bat'] + over_runs['extras']\n",
    "print(over_runs[['total_runs']])\n",
    "print(\"\\n\")"
   ]
  },
  {
   "cell_type": "code",
   "execution_count": 61,
   "id": "290c0ee3",
   "metadata": {},
   "outputs": [
    {
     "name": "stdout",
     "output_type": "stream",
     "text": [
      "Powerplay vs non-powerplay scoring rates:\n",
      "Powerplay scoring rate: 8.13 runs per over\n",
      "Non-powerplay scoring rate: 7.96 runs per over\n"
     ]
    }
   ],
   "source": [
    "print(\"Powerplay vs non-powerplay scoring rates:\")\n",
    "df['is_powerplay'] = df['over'] <= 6\n",
    "powerplay_runs = df[df['is_powerplay']].groupby(['match_id', 'innings'])[['runs_off_bat', 'extras']].sum()\n",
    "powerplay_runs['total_runs'] = powerplay_runs['runs_off_bat'] + powerplay_runs['extras']\n",
    "powerplay_balls = df[df['is_powerplay']].groupby(['match_id', 'innings']).size()\n",
    "powerplay_rate = (powerplay_runs['total_runs'] / powerplay_balls * 6).mean()  \n",
    "\n",
    "non_powerplay_runs = df[~df['is_powerplay']].groupby(['match_id', 'innings'])[['runs_off_bat', 'extras']].sum()\n",
    "non_powerplay_runs['total_runs'] = non_powerplay_runs['runs_off_bat'] + non_powerplay_runs['extras']\n",
    "non_powerplay_balls = df[~df['is_powerplay']].groupby(['match_id', 'innings']).size()\n",
    "non_powerplay_rate = (non_powerplay_runs['total_runs'] / non_powerplay_balls * 6).mean()  \n",
    "\n",
    "print(f\"Powerplay scoring rate: {powerplay_rate:.2f} runs per over\")\n",
    "print(f\"Non-powerplay scoring rate: {non_powerplay_rate:.2f} runs per over\")"
   ]
  },
  {
   "cell_type": "code",
   "execution_count": 62,
   "id": "3708179f",
   "metadata": {},
   "outputs": [
    {
     "name": "stdout",
     "output_type": "stream",
     "text": [
      "Top batting partnerships (by runs):\n",
      "partnership\n",
      "F du Plessis & DP Conway      305\n",
      "TM Head & SPD Smith           208\n",
      "DP Conway & F du Plessis      151\n",
      "FH Allen & MW Short           147\n",
      "MW Short & FH Allen           124\n",
      "SPD Smith & TM Head           119\n",
      "AM Hardie & DP Conway         108\n",
      "FH Allen & J Fraser-McGurk     99\n",
      "RD Rickelton & Q de Kock       99\n",
      "TM Head & AGS Gous             93\n",
      "Name: runs_off_bat, dtype: int64\n",
      "\n",
      "\n"
     ]
    }
   ],
   "source": [
    "print(\"Top batting partnerships (by runs):\")\n",
    "df['partnership'] = df['striker'] + \" & \" + df['non_striker']\n",
    "partnership_runs = df.groupby('partnership')['runs_off_bat'].sum().sort_values(ascending=False)\n",
    "print(partnership_runs.head(10))\n",
    "print(\"\\n\")"
   ]
  },
  {
   "cell_type": "code",
   "execution_count": 63,
   "id": "35182d4e",
   "metadata": {},
   "outputs": [
    {
     "name": "stdout",
     "output_type": "stream",
     "text": [
      "Aggregate by venue:\n",
      "venue\n",
      "Grand Prairie Stadium, Dallas      317.0625\n",
      "Church Street Park, Morrisville    257.0000\n",
      "Name: total_runs, dtype: float64\n",
      "\n",
      "\n"
     ]
    }
   ],
   "source": [
    "print(\"Aggregate by venue:\")\n",
    "venue_runs = df.groupby(['match_id', 'venue'])[['runs_off_bat', 'extras']].sum()\n",
    "venue_runs['total_runs'] = venue_runs['runs_off_bat'] + venue_runs['extras']\n",
    "average_by_venue = venue_runs.groupby('venue')['total_runs'].mean().sort_values(ascending=False)\n",
    "print(average_by_venue)\n",
    "print(\"\\n\")"
   ]
  },
  {
   "cell_type": "code",
   "execution_count": 64,
   "id": "add273de",
   "metadata": {},
   "outputs": [
    {
     "name": "stdout",
     "output_type": "stream",
     "text": [
      "Top batsman-bowler matchups (min 5 balls faced):\n",
      "                                 balls  runs  dismissals  strike_rate\n",
      "striker          bowler                                              \n",
      "GJ Maxwell       Hassan Khan        19    47           0   247.368421\n",
      "RD Rickelton     SH Johnson         26    46           1   176.923077\n",
      "SPD Smith        J Drysdale         25    44           0   176.000000\n",
      "F du Plessis     TA Boult           19    43           0   226.315789\n",
      "FH Allen         Zia-ul-Haq         21    43           1   204.761905\n",
      "F du Plessis     M Jansen           17    41           0   241.176471\n",
      "TM Head          C le Roux          20    40           0   200.000000\n",
      "SPD Smith        Haris Rauf         19    36           0   189.473684\n",
      "DP Conway        Haris Rauf         20    34           1   170.000000\n",
      "SP Krishnamurthi SN Netravalkar     19    32           1   168.421053\n",
      "RD Rickelton     CA Dry             18    32           0   177.777778\n",
      "N Pooran         CJ Gannon          14    32           0   228.571429\n",
      "FH Allen         L Ngidi            11    31           0   281.818182\n",
      "AGS Gous         Rashid Khan        16    30           0   187.500000\n",
      "FH Allen         MP Stoinis         11    29           0   263.636364\n",
      "\n",
      "\n"
     ]
    }
   ],
   "source": [
    "print(\"Top batsman-bowler matchups (min 5 balls faced):\")\n",
    "# Group by batsman-bowler combinations\n",
    "matchups = df.groupby(['striker', 'bowler']).agg(\n",
    "    balls=pd.NamedAgg(column='ball', aggfunc='count'),\n",
    "    runs=pd.NamedAgg(column='runs_off_bat', aggfunc='sum'),\n",
    "    dismissals=pd.NamedAgg(column='wicket_type', aggfunc=lambda x: x.notna().sum())\n",
    ")\n",
    "\n",
    "#Calculate strike rate\n",
    "matchups['strike_rate'] = (matchups['runs'] / matchups['balls']) * 100\n",
    "\n",
    "# Filter for minimum 10 balls faced\n",
    "qualified_matchups = matchups[matchups['balls'] >= 5].sort_values('runs', ascending=False)\n",
    "print(qualified_matchups.head(15))\n",
    "print(\"\\n\")"
   ]
  },
  {
   "cell_type": "code",
   "execution_count": 75,
   "id": "ba2b6ac2",
   "metadata": {},
   "outputs": [
    {
     "name": "stdout",
     "output_type": "stream",
     "text": [
      "Golden Arm' Bowlers - Partnership BreakerS\n",
      "Total wickets in dataset: 281\n",
      "\n",
      "Top 'Golden Arm' Bowlers:\n",
      "             partnership_breaks  avg_partnership_size\n",
      "bowler                                               \n",
      "MP Stoinis                    5             52.400000\n",
      "Noor Ahmad                    5             54.000000\n",
      "Haris Rauf                    4             34.750000\n",
      "LE Plunkett                   3             55.666667\n"
     ]
    },
    {
     "name": "stderr",
     "output_type": "stream",
     "text": [
      "C:\\Users\\aadit\\AppData\\Local\\Temp\\ipykernel_41072\\4261915946.py:33: FutureWarning: Not prepending group keys to the result index of transform-like apply. In the future, the group keys will be included in the index, regardless of whether the applied function returns a like-indexed object.\n",
      "To preserve the previous behavior, use\n",
      "\n",
      "\t>>> .groupby(..., group_keys=False)\n",
      "\n",
      "To adopt the future behavior and silence this warning, use \n",
      "\n",
      "\t>>> .groupby(..., group_keys=True)\n",
      "  result = df.groupby(['match_id', 'innings']).apply(find_partnership_breakers)\n"
     ]
    }
   ],
   "source": [
    "print(\"Golden Arm' Bowlers - Partnership BreakerS\")\n",
    "\n",
    "if 'over' not in df.columns:\n",
    "    df['over'] = np.ceil(df['ball']).astype(int)\n",
    "\n",
    "wicket_count = df['wicket_type'].notna().sum()\n",
    "print(f\"Total wickets in dataset: {wicket_count}\")\n",
    "\n",
    "# A simpler approach: identify all wickets and the runs scored since last wicket\n",
    "df = df.sort_values(['match_id', 'innings', 'ball'])\n",
    "\n",
    "# Group by match and innings\n",
    "def find_partnership_breakers(group):\n",
    "    group['last_wicket_ball'] = float('nan')\n",
    "    group['partnership_runs'] = 0\n",
    "    \n",
    "    last_wicket_ball = 0\n",
    "    current_runs = 0\n",
    "    \n",
    "    for idx, row in group.iterrows():\n",
    "        # Add current ball's runs to partnership\n",
    "        current_runs += row['runs_off_bat'] + row['extras']\n",
    "        \n",
    "        # If this is a wicket ball\n",
    "        if pd.notna(row['wicket_type']):\n",
    "            # Mark the partnership runs for this wicket\n",
    "            group.at[idx, 'partnership_runs'] = current_runs\n",
    "            current_runs = 0\n",
    "    \n",
    "    return group\n",
    "\n",
    "# Apply function to each match-innings group\n",
    "result = df.groupby(['match_id', 'innings']).apply(find_partnership_breakers)\n",
    "\n",
    "# Analyze partnership breakers - lower threshold to 15 runs\n",
    "min_partnership = 30  # Lower threshold to ensure we get results\n",
    "partnership_breakers = result[pd.notna(result['wicket_type']) & (result['partnership_runs'] >= min_partnership)]\n",
    "\n",
    "# Count how many significant partnerships each bowler broke\n",
    "if len(partnership_breakers) > 0:\n",
    "    golden_arm = partnership_breakers.groupby('bowler').size().sort_values(ascending=False)\n",
    "    golden_arm_df = pd.DataFrame({'partnership_breaks': golden_arm})\n",
    "\n",
    "    # Add average partnership runs when breaking\n",
    "    partnership_sizes = partnership_breakers.groupby('bowler')['partnership_runs'].mean()\n",
    "    golden_arm_df['avg_partnership_size'] = partnership_sizes\n",
    "    \n",
    "    # Only include bowlers who broke at least 3 partnerships\n",
    "    golden_arm_df = golden_arm_df[golden_arm_df['partnership_breaks'] >= 3]\n",
    "    \n",
    "    print(\"\\nTop 'Golden Arm' Bowlers:\")\n",
    "    print(golden_arm_df.head(10))\n",
    "else:\n",
    "    print(\"No significant partnerships were broken based on current criteria.\")"
   ]
  },
  {
   "cell_type": "code",
   "execution_count": 66,
   "id": "4b9830d3",
   "metadata": {},
   "outputs": [
    {
     "name": "stdout",
     "output_type": "stream",
     "text": [
      "Highest individual scores in an innings:\n",
      "     match_id           striker  runs_off_bat\n",
      "78    1432731      RD Rickelton           103\n",
      "331   1432749          FH Allen           101\n",
      "68    1432730      F du Plessis           100\n",
      "195   1432740      RD Rickelton            89\n",
      "357   1432750         SPD Smith            88\n",
      "275   1432745  SP Krishnamurthi            79\n",
      "236   1432743          FH Allen            77\n",
      "326   1432748           TM Head            77\n",
      "302   1432747      F du Plessis            72\n",
      "75    1432731            JJ Roy            69\n",
      "\n",
      "\n"
     ]
    }
   ],
   "source": [
    "# Find highest individual score in an innings\n",
    "print(\"Highest individual scores in an innings:\")\n",
    "\n",
    "# Group by match_id and striker, sum the runs scored by each batsman in each match\n",
    "batsman_match_runs = df.groupby(['match_id', 'striker'])['runs_off_bat'].sum().reset_index()\n",
    "\n",
    "# Sort by runs in descending order\n",
    "highest_scores = batsman_match_runs.sort_values(by='runs_off_bat', ascending=False)\n",
    "\n",
    "# Display top 10 highest individual scores\n",
    "print(highest_scores.head(10))\n",
    "print(\"\\n\")"
   ]
  },
  {
   "cell_type": "code",
   "execution_count": 76,
   "id": "c525b724",
   "metadata": {},
   "outputs": [
    {
     "name": "stdout",
     "output_type": "stream",
     "text": [
      "VENUE COMPARISON ANALYSIS\n",
      "--------------------------------------------------\n",
      "\n",
      "1. OVERALL SCORING RATES:\n",
      "                             venue  runs_per_ball  runs_per_match\n",
      "0  Church Street Park, Morrisville       1.178918      242.857143\n",
      "1    Grand Prairie Stadium, Dallas       1.287891      301.125000\n",
      "\n",
      "2. TEAM PERFORMANCE BY VENUE:\n",
      "\n",
      "At Church Street Park, Morrisville:\n",
      "                batting_team  runs_per_ball\n",
      "4          Texas Super Kings       1.471429\n",
      "5         Washington Freedom       1.310734\n",
      "2     San Francisco Unicorns       1.163180\n",
      "1                MI New York       1.141553\n",
      "0  Los Angeles Knight Riders       1.112069\n",
      "3              Seattle Orcas       1.021918\n",
      "\n",
      "At Grand Prairie Stadium, Dallas:\n",
      "                 batting_team  runs_per_ball\n",
      "11         Washington Freedom       1.444284\n",
      "8      San Francisco Unicorns       1.418011\n",
      "10          Texas Super Kings       1.331529\n",
      "6   Los Angeles Knight Riders       1.194726\n",
      "9               Seattle Orcas       1.125506\n",
      "7                 MI New York       1.096552\n",
      "\n",
      "3. DISMISSAL PATTERNS BY VENUE:\n",
      "wicket_type                      bowled  caught  caught and bowled  \\\n",
      "venue                                                                \n",
      "Church Street Park, Morrisville      15      55                  2   \n",
      "Grand Prairie Stadium, Dallas        38     124                  7   \n",
      "\n",
      "wicket_type                      hit wicket  lbw  retired hurt  run out  \\\n",
      "venue                                                                     \n",
      "Church Street Park, Morrisville           0    5             1        2   \n",
      "Grand Prairie Stadium, Dallas             1   19             0        8   \n",
      "\n",
      "wicket_type                      stumped  \n",
      "venue                                     \n",
      "Church Street Park, Morrisville        0  \n",
      "Grand Prairie Stadium, Dallas          4  \n",
      "\n",
      "4. EXTRAS COMPARISON:\n",
      "                             venue  extras  wides  noballs  byes  legbyes\n",
      "0  Church Street Park, Morrisville      99     67        2     8       22\n",
      "1    Grand Prairie Stadium, Dallas     255    177       17    13       48\n"
     ]
    }
   ],
   "source": [
    "\n",
    "# Basic venue comparison analysis\n",
    "def analyze_venues(df):\n",
    "    # 1. Run-scoring comparison between venues\n",
    "    venue_runs = df.groupby('venue').agg({\n",
    "        'runs_off_bat': 'sum',\n",
    "        'ball': 'count',\n",
    "        'match_id': 'nunique'\n",
    "    }).reset_index()\n",
    "    \n",
    "    # Calculate runs per ball and runs per match\n",
    "    venue_runs['runs_per_ball'] = venue_runs['runs_off_bat'] / venue_runs['ball']\n",
    "    venue_runs['runs_per_match'] = venue_runs['runs_off_bat'] / venue_runs['match_id']\n",
    "    \n",
    "    # 2. Team performance at each venue\n",
    "    team_venue_performance = df.groupby(['venue', 'batting_team']).agg({\n",
    "        'runs_off_bat': 'sum',\n",
    "        'ball': 'count',\n",
    "        'match_id': 'nunique'\n",
    "    }).reset_index()\n",
    "    \n",
    "    team_venue_performance['runs_per_ball'] = team_venue_performance['runs_off_bat'] / team_venue_performance['ball']\n",
    "    \n",
    "    # 3. Wicket types comparison between venues\n",
    "    wicket_types = df[df['wicket_type'].notna() & (df['wicket_type'] != '')].groupby(['venue', 'wicket_type']).size().reset_index(name='count')\n",
    "    \n",
    "    # 4. Extras comparison between venues\n",
    "    extras_by_venue = df.groupby('venue').agg({\n",
    "        'extras': 'sum',\n",
    "        'wides': 'sum',\n",
    "        'noballs': 'sum',\n",
    "        'byes': 'sum',\n",
    "        'legbyes': 'sum'\n",
    "    }).reset_index()\n",
    "    \n",
    "    return venue_runs, team_venue_performance, wicket_types, extras_by_venue\n",
    "\n",
    "# Main function to run the analysis\n",
    "def main():\n",
    "    venue_runs, team_venue_performance, wicket_types, extras_by_venue = analyze_venues(df)\n",
    "\n",
    "    print(\"VENUE COMPARISON ANALYSIS\")\n",
    "    print(\"-\" * 50)\n",
    "    \n",
    "    print(\"\\n1. OVERALL SCORING RATES:\")\n",
    "    print(venue_runs[['venue', 'runs_per_ball', 'runs_per_match']])\n",
    "    \n",
    "    print(\"\\n2. TEAM PERFORMANCE BY VENUE:\")\n",
    "    for venue in df['venue'].unique():\n",
    "        print(f\"\\nAt {venue}:\")\n",
    "        venue_data = team_venue_performance[team_venue_performance['venue'] == venue]\n",
    "        print(venue_data[['batting_team', 'runs_per_ball']].sort_values('runs_per_ball', ascending=False))\n",
    "    \n",
    "    print(\"\\n3. DISMISSAL PATTERNS BY VENUE:\")\n",
    "    wicket_summary = wicket_types.pivot_table(index='venue', columns='wicket_type', values='count', fill_value=0)\n",
    "    print(wicket_summary)\n",
    "    \n",
    "    print(\"\\n4. EXTRAS COMPARISON:\")\n",
    "    print(extras_by_venue)\n",
    "\n",
    "if __name__ == \"__main__\":\n",
    "    main()"
   ]
  },
  {
   "cell_type": "code",
   "execution_count": null,
   "id": "594a72bc",
   "metadata": {},
   "outputs": [],
   "source": []
  }
 ],
 "metadata": {
  "kernelspec": {
   "display_name": "Python 3 (ipykernel)",
   "language": "python",
   "name": "python3"
  },
  "language_info": {
   "codemirror_mode": {
    "name": "ipython",
    "version": 3
   },
   "file_extension": ".py",
   "mimetype": "text/x-python",
   "name": "python",
   "nbconvert_exporter": "python",
   "pygments_lexer": "ipython3",
   "version": "3.10.9"
  }
 },
 "nbformat": 4,
 "nbformat_minor": 5
}
